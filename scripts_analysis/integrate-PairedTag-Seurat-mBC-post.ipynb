{
 "cells": [
  {
   "cell_type": "code",
   "execution_count": 1,
   "id": "conventional-colonial",
   "metadata": {},
   "outputs": [],
   "source": [
    "import pickle, importlib, re, h5py, os, itertools, json, logging\n",
    "from collections import Counter\n",
    "from pathlib import Path\n",
    "from tqdm.auto import tqdm\n",
    "import numpy as np, pandas as pd\n",
    "from sklearn.preprocessing import minmax_scale, StandardScaler, MinMaxScaler\n",
    "from sklearn.neighbors import NearestNeighbors, KNeighborsRegressor, KernelDensity\n",
    "from sklearn.decomposition import PCA\n",
    "from sklearn.linear_model import LinearRegression\n",
    "from sklearn.metrics import confusion_matrix\n",
    "from sklearn.model_selection import cross_validate, cross_val_score\n",
    "from scipy.stats import spearmanr, pearsonr, ttest_ind, fisher_exact, ttest_1samp, mannwhitneyu\n",
    "from scipy.spatial import ConvexHull\n",
    "from scipy.sparse import csr_matrix, coo_matrix, save_npz\n",
    "from statsmodels.stats.multitest import multipletests\n",
    "from matplotlib_venn import venn2\n",
    "from anndata import AnnData\n",
    "import scanpy as sc\n",
    "from umap import UMAP\n",
    "from matplotlib import pyplot as plt\n",
    "import seaborn as sns\n",
    "# %config InlineBackend.figure_format = 'retina'\n",
    "plt.rcParams['figure.facecolor']='white'\n",
    "plt.rcParams['pdf.fonttype'] = 42\n",
    "plt.rcParams['svg.fonttype'] = 'none'"
   ]
  },
  {
   "cell_type": "code",
   "execution_count": 2,
   "id": "997ac5ef",
   "metadata": {},
   "outputs": [],
   "source": [
    "path2figdir = Path('/work/magroup/tianming/Researches/sc-hic/data2/final/figures-mBC-paper')"
   ]
  },
  {
   "cell_type": "code",
   "execution_count": 3,
   "id": "4eb74e7e",
   "metadata": {},
   "outputs": [],
   "source": [
    "filename = '/work/magroup/tianming/Researches/sc-hic/data/genome/mm10/gencode.vM25.annotation.gtf.gz'\n",
    "df = pd.read_csv(\n",
    "    filename,\n",
    "    header=0,\n",
    "    skiprows=5,\n",
    "    usecols=[0, 2, 3, 4, 6, 8],\n",
    "    index_col=False,\n",
    "    names=['chrom', 'type', 'start', 'end', 'strand', 'annotation'],\n",
    "    delimiter='\\t',\n",
    ")\n",
    "df = df[df['type'].isin(['gene'])]\n",
    "pattern = re.compile(r'gene_name \"([^\"]+)\";')\n",
    "df['gene_name'] = [pattern.search(_).group(1) for _ in df['annotation']]\n",
    "pattern = re.compile(r'gene_type \"([^;]+)\";')\n",
    "df['gene_type'] = [pattern.search(_).group(1) for _ in df['annotation']]\n",
    "pattern = re.compile(r'gene_id \"([^\"]+)\";')\n",
    "df['ID'] = [pattern.search(_).group(1).split('.')[0] for _ in df['annotation']]\n",
    "df['gene_id'] = df['ID']\n",
    "df_gene_anno = df.set_index('gene_name')\n",
    "df_gene_anno = df_gene_anno[~df_gene_anno.index.duplicated(keep=False)]\n",
    "del df"
   ]
  },
  {
   "cell_type": "markdown",
   "id": "utility-lease",
   "metadata": {},
   "source": [
    "# 1. Load GAGE-seq"
   ]
  },
  {
   "cell_type": "markdown",
   "id": "5689dca3",
   "metadata": {},
   "source": [
    "## 1.1 Load GAGE-seq gene expression and meta data"
   ]
  },
  {
   "cell_type": "code",
   "execution_count": 4,
   "id": "imposed-arlington",
   "metadata": {},
   "outputs": [],
   "source": [
    "lib_name, species = 'mBC', 'mm10'\n",
    "walk_policy = 'complete'\n",
    "res_str = '500kb'\n",
    "\n",
    "path2root = Path('/work/magroup/tianming/Researches/sc-hic/data2/final')\n",
    "\n",
    "adata = sc.read_10x_mtx(\n",
    "    path2root / 'results' / f'RNA_{lib_name}_{walk_policy}_{species}_filtered_10x',\n",
    "#     var_names='gene_ids',\n",
    ")\n",
    "cell_id_all = np.loadtxt(path2root / 'results' / f'RNA_{lib_name}_{walk_policy}_{species}_filtered_10x' / 'barcodes.tsv', dtype=object)\n",
    "adata.obs.index = cell_id_all\n",
    "with open(path2root / 'results' / f'meta_{lib_name}_{walk_policy}_{species}_filtered.pkl', 'rb') as f:\n",
    "    df_meta = pickle.load(f)\n",
    "adata.obs = pd.concat([adata.obs, df_meta], axis=1)\n",
    "del df_meta\n",
    "\n",
    "df_seurat = pd.read_csv(path2root / 'results' / 'meta-Seurat_mBC_complete_mm10_filtered.csv', index_col=0)\n",
    "adata = adata[df_seurat.index].copy()\n",
    "adata.obs['cell type'] = pd.Categorical(df_seurat['Idents.obj.'], categories=[\n",
    "    \"L2 IT RvPP\", \"L2/3 IT RSP\", \"L2/3 IT CTX a\", \"L2/3 IT CTX b\", \"L2/3 IT CTX c\",\n",
    "    \"L4 IT CTX\", \"L4/5 IT CTX\", \"L5 IT RSP\", \"L5 IT CTX\", \"L6 IT CTX\",\n",
    "    \"L5 PT CTX\", \"L6 CT CTX a\", \"L6 CT CTX b\", \"L5/6 NP CTX\", \"L6b CTX\",\n",
    "    \"Pvalb a\", \"Pvalb b\", \"Sst a\", \"Sst b\", \"Vip\", \"Sncg\", \"Lamp5\", \"Meis2\",\n",
    "    \"Astro\", \"OPC\", \"ODC\", \"VLMC\", \"Micro\",\n",
    "    \"Unk\",\n",
    "])\n",
    "\n",
    "adata_rna_raw = adata.copy()\n",
    "\n",
    "sc.pp.calculate_qc_metrics(adata, percent_top=None, log1p=False, inplace=True)\n",
    "\n",
    "sc.pp.normalize_total(adata, target_sum=1e4)\n",
    "sc.pp.log1p(adata)\n",
    "adata.raw = adata.copy()\n",
    "sc.pp.highly_variable_genes(adata)\n",
    "sc.pp.scale(adata, max_value=10)\n",
    "\n",
    "genes = adata.var.index.values\n",
    "genes = genes[np.isin(genes, df_gene_anno.index.values)]\n",
    "adata = adata[:, genes].copy()\n",
    "\n",
    "adata_rna = adata\n",
    "del adata"
   ]
  },
  {
   "cell_type": "markdown",
   "id": "6a150a8d",
   "metadata": {},
   "source": [
    "We group cells into 3 major cell types."
   ]
  },
  {
   "cell_type": "code",
   "execution_count": 5,
   "id": "12d44482",
   "metadata": {},
   "outputs": [],
   "source": [
    "gage_exc_types = [\n",
    "    \"L2 IT RvPP\", \"L2/3 IT RSP\", \"L2/3 IT CTX a\", \"L2/3 IT CTX b\", \"L2/3 IT CTX c\",\n",
    "    \"L4 IT CTX\", \"L4/5 IT CTX\", \"L5 IT RSP\", \"L5 IT CTX\", \"L6 IT CTX\",\n",
    "    \"L5 PT CTX\", \"L6 CT CTX a\", \"L6 CT CTX b\", \"L5/6 NP CTX\", \"L6b CTX\"]\n",
    "gage_inh_types = [\n",
    "    \"Pvalb a\", \"Pvalb b\", \"Sst a\", \"Sst b\", \"Vip\", \"Sncg\", \"Lamp5\", \"Meis2\"]\n",
    "gage_glia_types = [\"Astro\", \"OPC\", \"ODC\", \"VLMC\", \"Micro\"]"
   ]
  },
  {
   "cell_type": "markdown",
   "id": "9e444ce3",
   "metadata": {},
   "source": [
    "## 1.2 Load GAGE-seq 3d genome structures\n",
    "\n",
    "Here, we load single-cell insulation scores and single-cell A/B values."
   ]
  },
  {
   "cell_type": "code",
   "execution_count": 6,
   "id": "powerful-design",
   "metadata": {},
   "outputs": [
    {
     "data": {
      "application/vnd.jupyter.widget-view+json": {
       "model_id": "d424cb429f2d4f5f84781bbbbe3a1700",
       "version_major": 2,
       "version_minor": 0
      },
      "text/plain": [
       "  0%|          | 0/3 [00:00<?, ?it/s]"
      ]
     },
     "metadata": {},
     "output_type": "display_data"
    }
   ],
   "source": [
    "path2root = Path(f'/work/magroup/tianming/Researches/sc-hic/data2/final/results/mBC_complete_mm10_filtered')\n",
    "score_dict_raw = {}\n",
    "for score_name, res_str, res in tqdm([\n",
    "    ('is-hw5', '100kb', 1e5),\n",
    "    ('is-hw10', '100kb', 1e5),\n",
    "    ('ab', '100kb', 1e5),\n",
    "]):\n",
    "    with open(path2root / f'score-{res_str}-{score_name}.pkl', 'rb') as f:\n",
    "        score_dict = pickle.load(f)\n",
    "    score_dict = {key.split('_')[1]: value for key, value in score_dict.items()}\n",
    "    mask = np.isin(cell_id_all, adata_rna.obs.index)\n",
    "    assert np.all(cell_id_all[mask] == adata_rna.obs.index)\n",
    "    score_dict = {key: value[mask] for key, value in score_dict.items()}\n",
    "    score_dict_raw[score_name, res_str] = score_dict\n",
    "    del score_name, res_str, res, score_dict"
   ]
  },
  {
   "cell_type": "code",
   "execution_count": 7,
   "id": "5461ff4c",
   "metadata": {},
   "outputs": [],
   "source": [
    "score_dict_all = score_dict_raw"
   ]
  },
  {
   "cell_type": "markdown",
   "id": "dd1c0a1e",
   "metadata": {},
   "source": [
    "# 2. Load Paired-Tag"
   ]
  },
  {
   "cell_type": "markdown",
   "id": "c7f39837",
   "metadata": {},
   "source": [
    "## 2.1 Load Paired-Tag single-cell gene expression and meta data"
   ]
  },
  {
   "cell_type": "code",
   "execution_count": 8,
   "id": "71cfb2f2",
   "metadata": {},
   "outputs": [],
   "source": [
    "path2dir = Path('/work/magroup/tianming/Researches/sc-hic/data/ref_datasets/Paired-Tag')\n",
    "adata = sc.read_10x_mtx(path2dir / '01.Paired-Tag_seq_RNA_filtered_matrix')\n",
    "df_meta = pd.read_csv(path2dir / 'Paired-seq-Table 1.csv', header=0, index_col=0)\n",
    "df_meta['Target'] = 'RNA'\n",
    "file_list = [\n",
    "    'Paired-Tag_H3K27ac-Table 1.csv',\n",
    "    'Paired-Tag_H3K27me3-Table 1.csv',\n",
    "    'Paired-Tag_H3K4me1-Table 1.csv',\n",
    "    'Paired-Tag_H3K4me3-Table 1.csv',\n",
    "    'Paired-Tag_H3K9me3-Table 1.csv',\n",
    "]\n",
    "df_meta = pd.concat([df_meta] + [pd.read_csv(path2dir / _, header=0, index_col=0) for _ in file_list], axis=0)\n",
    "adata.obs = pd.concat([adata.obs, df_meta], axis=1)\n",
    "adata_pairedtag = adata\n",
    "del adata"
   ]
  },
  {
   "cell_type": "markdown",
   "id": "790e0821",
   "metadata": {},
   "source": [
    "## 2.2 Load Paired-Tag single-cell accessibility"
   ]
  },
  {
   "cell_type": "code",
   "execution_count": 9,
   "id": "53b66ba8",
   "metadata": {},
   "outputs": [],
   "source": [
    "path2dir = Path('/work/magroup/tianming/Researches/sc-hic/data/ref_datasets/Paired-Tag')\n",
    "adata_pairedseq = sc.read_10x_mtx(path2dir / '07.Paired-seq_DNA_filtered_matrix')"
   ]
  },
  {
   "cell_type": "markdown",
   "id": "2fe093f3",
   "metadata": {},
   "source": [
    "We bin the accessibility to 100-kb resolution, to match the resolution of scHi-C."
   ]
  },
  {
   "cell_type": "code",
   "execution_count": 10,
   "id": "6d8f70ba",
   "metadata": {},
   "outputs": [
    {
     "data": {
      "application/vnd.jupyter.widget-view+json": {
       "model_id": "f1c2d9ea0b0f4420a1fdb4a1ca57d448",
       "version_major": 2,
       "version_minor": 0
      },
      "text/plain": [
       "  0%|          | 0/2443832 [00:00<?, ?it/s]"
      ]
     },
     "metadata": {},
     "output_type": "display_data"
    },
    {
     "data": {
      "application/vnd.jupyter.widget-view+json": {
       "model_id": "5c021dc4f42f4a5e8a93a11675ade7fd",
       "version_major": 2,
       "version_minor": 0
      },
      "text/plain": [
       "  0%|          | 0/2443832 [00:00<?, ?it/s]"
      ]
     },
     "metadata": {},
     "output_type": "display_data"
    }
   ],
   "source": [
    "res = int(1e5)\n",
    "x = adata_pairedseq.X.tocoo(copy=True)\n",
    "feat = adata_pairedseq.var.index.values\n",
    "chrom, pos = zip(*[_.split(':') for _ in tqdm(feat)])\n",
    "pos = [int(_.split('-')[0]) for _ in tqdm(pos)]\n",
    "feat_new_dup = [f'{c}:{p // res * res}-{p // res * res + res}' for c, p in zip(chrom, pos)]\n",
    "feat_new, col = np.unique(feat_new_dup, return_inverse=True)\n",
    "data = np.ones(len(feat))\n",
    "row = np.arange(len(feat))\n",
    "mapping = coo_matrix((data, (row, col)), shape=(len(feat), len(feat_new)))\n",
    "x_new = x @ mapping\n",
    "adata_pairedseq_lowres = AnnData(X=x_new, var=pd.DataFrame(index=feat_new), obs=adata_pairedseq.obs)"
   ]
  },
  {
   "cell_type": "markdown",
   "id": "a11c6ffa",
   "metadata": {},
   "source": [
    "# 3. Load integrated embedding space"
   ]
  },
  {
   "cell_type": "code",
   "execution_count": 11,
   "id": "33b358a7",
   "metadata": {},
   "outputs": [],
   "source": [
    "path2dir = Path('/work/magroup/tianming/Researches/sc-hic/data2/final/results_mBC_integration_PairedTag')\n",
    "pca_int = pd.read_csv(path2dir / 'PCA-Seurat.csv', header=0, index_col=0)\n",
    "pca_gage = pca_int.loc[pca_int.index.isin(adata_rna.obs.index)]\n",
    "pca_pairedseq = pca_int.loc[pca_int.index.isin(adata_pairedtag.obs.index)]\n",
    "idx_gage = pca_gage.index.values\n",
    "idx_pairedseq = pca_pairedseq.index.values\n",
    "mask_gage = adata_rna.obs.index.isin(idx_gage)\n",
    "mask_idx_pairedtag = adata_pairedtag.obs.index.isin(idx_pairedseq)\n",
    "mask_idx_pairedseq = adata_pairedseq.obs.index.isin(idx_pairedseq)\n",
    "assert np.all(adata_rna.obs.index[mask_gage] == idx_gage)\n",
    "assert np.all(adata_pairedtag.obs.index[mask_idx_pairedtag] == idx_pairedseq)\n",
    "assert np.all(adata_pairedseq.obs.index[mask_idx_pairedseq] == idx_pairedseq)"
   ]
  },
  {
   "cell_type": "markdown",
   "id": "473f90ea",
   "metadata": {},
   "source": [
    "# 4. Train model to infer accessibility for GAGE-seq cells"
   ]
  },
  {
   "cell_type": "markdown",
   "id": "cb629360",
   "metadata": {},
   "source": [
    "## 4.1 Learn the mixing weights for the k-NN regression model"
   ]
  },
  {
   "cell_type": "code",
   "execution_count": 12,
   "id": "fcf07433",
   "metadata": {},
   "outputs": [],
   "source": [
    "num_pcs = None\n",
    "adj_matrix = NearestNeighbors(n_neighbors=40)\\\n",
    "    .fit(pca_pairedseq.values[:, :num_pcs])\\\n",
    "    .kneighbors_graph(pca_gage.values[:, :num_pcs], mode='distance')\n",
    "\n",
    "def knn_dist2weight(w: csr_matrix, q: float = .3):\n",
    "\tw = w.tocsr(copy=True)\n",
    "\tsigma = np.array([\n",
    "\t\tnp.quantile(w.data[l: r], q)\n",
    "\t\tfor l, r in zip(w.indptr[:-1], w.indptr[1:])\n",
    "\t])\n",
    "\tw = w.tocoo()\n",
    "\tw.data[:] = np.exp(-np.square(w.data / sigma[w.row]))\n",
    "\tw = w.tocsr()\n",
    "\tw = w / w.sum(1)\n",
    "\treturn w\n",
    "\n",
    "smooth_weight = knn_dist2weight(adj_matrix)"
   ]
  },
  {
   "cell_type": "markdown",
   "id": "382aa30b",
   "metadata": {},
   "source": [
    "# 4.2 Predict accessibility for GAGE-seq cells"
   ]
  },
  {
   "cell_type": "code",
   "execution_count": 13,
   "id": "d9461a29",
   "metadata": {},
   "outputs": [],
   "source": [
    "feat_atac_lowres = pd.DataFrame(\n",
    "    data=np.array(smooth_weight @ adata_pairedseq_lowres[idx_pairedseq].copy().X),\n",
    "    index=idx_gage,\n",
    "    columns=adata_pairedseq_lowres.var.index.values,\n",
    ")"
   ]
  },
  {
   "cell_type": "markdown",
   "id": "329ab59c",
   "metadata": {},
   "source": [
    "# 5. Jointly analyze the 3 modalities"
   ]
  },
  {
   "cell_type": "code",
   "execution_count": 14,
   "id": "edf95e32",
   "metadata": {
    "scrolled": true
   },
   "outputs": [
    {
     "name": "stderr",
     "output_type": "stream",
     "text": [
      "/tmp/ipykernel_11469/199874977.py:37: RuntimeWarning: Precision loss occurred in moment calculation due to catastrophic cancellation. This occurs when the data are nearly identical. Results may be unreliable.\n",
      "  stat, pval = ttest_ind(adata_rna[cell_mask_1, df_genes.index].X, adata_rna[cell_mask_2, df_genes.index].X)\n"
     ]
    },
    {
     "data": {
      "application/vnd.jupyter.widget-view+json": {
       "model_id": "e3a9c0bc42ab44928e50ad1f1c952018",
       "version_major": 2,
       "version_minor": 0
      },
      "text/plain": [
       "  0%|          | 0/6472 [00:00<?, ?it/s]"
      ]
     },
     "metadata": {},
     "output_type": "display_data"
    },
    {
     "data": {
      "application/vnd.jupyter.widget-view+json": {
       "model_id": "38f047c2ad504028afd4e829d521320c",
       "version_major": 2,
       "version_minor": 0
      },
      "text/plain": [
       "  0%|          | 0/6472 [00:00<?, ?it/s]"
      ]
     },
     "metadata": {},
     "output_type": "display_data"
    }
   ],
   "source": [
    "def get_gene_scores(genes, df_gene_anno, scores, res, fn_agg=np.mean):\n",
    "\tgenes_all = set(k for k, v in Counter(df_gene_anno.index).items() if v == 1)\n",
    "\tgenes = list(set(genes) & set(genes_all))\n",
    "\tdf_loc = df_gene_anno.loc[genes, ['chrom', 'start', 'end']]\n",
    "\tdf_loc = df_loc[df_loc['chrom'].isin(scores.keys())]\n",
    "\tdf_loc = df_loc.copy()\n",
    "\tdf_loc['start'] = np.floor(df_loc['start'] / res).astype(int)\n",
    "\tdf_loc['end'] = np.ceil(df_loc['end'] / res).astype(int)\n",
    "\ts = np.stack([\n",
    "\t\tfn_agg(scores[chrom][:, start:end], axis=1)\n",
    "\t\tfor gene, (chrom, start, end) in df_loc.iterrows()\n",
    "\t])\n",
    "\tdf = pd.DataFrame(data=s, columns=range(s.shape[1]), index=df_loc.index)\n",
    "\treturn df\n",
    "\n",
    "score_res = int(1e5)\n",
    "\n",
    "genes = adata_rna.var.highly_variable\n",
    "genes = genes[genes].index.values\n",
    "df_genes = df_gene_anno.loc[genes].copy()\n",
    "df_genes['tss'] = np.where(df_genes['strand'] == '+', df_genes['start'], df_genes['end'])\n",
    "df_genes['pos_whole'] = np.array([\n",
    "    f'{c}:{p}-{p+score_res}' for c, p in zip(df_genes['chrom'], df_genes['tss']//score_res*score_res)])\n",
    "df_genes = df_genes[df_genes['pos_whole'].isin(feat_atac_lowres.columns)]\n",
    "\n",
    "score_name, score_res_str, score_res = 'ab', '100kb', int(1e5)\n",
    "score_dict = score_dict_all[score_name, score_res_str]\n",
    "gene_scores = get_gene_scores(df_genes.index.values, df_gene_anno, score_dict, score_res)\n",
    "gene_scores = gene_scores.iloc[gene_scores.values.std(1) > 0]\n",
    "df_genes = df_genes.iloc[df_genes.index.isin(gene_scores.index)]\n",
    "gene_scores = gene_scores.loc[df_genes.index]\n",
    "\n",
    "cell_mask_1 = mask_gage & adata_rna.obs['cell type'].isin(gage_exc_types)\n",
    "cell_mask_2 = mask_gage & adata_rna.obs['cell type'].isin(gage_inh_types)\n",
    "cell_mask_2 &= ~cell_mask_1\n",
    "cell_mask_all = cell_mask_1 | cell_mask_2\n",
    "stat, pval = ttest_ind(adata_rna[cell_mask_1, df_genes.index].X, adata_rna[cell_mask_2, df_genes.index].X)\n",
    "np.nan_to_num(stat, nan=0, copy=False)\n",
    "np.nan_to_num(pval, nan=1, copy=False)\n",
    "reject, pval_adj = multipletests(pval, .01, method='fdr_bh')[:2]\n",
    "reject &= adata_rna[cell_mask_all, df_genes.index].copy().X.std(0) > 1e-3\n",
    "df_genes['reject_deg'] = reject\n",
    "\n",
    "stat, pval = ttest_1samp(gene_scores, 0, axis=1, alternative='less')\n",
    "stat = np.nan_to_num(stat, 0)\n",
    "pval = np.nan_to_num(pval, 1)\n",
    "reject, pval_adj = multipletests(pval, .01, method='fdr_bh')[:2]\n",
    "df_genes['diff_ab'] = stat\n",
    "df_genes['reject_diff_ab'] = reject\n",
    "\n",
    "corr, pval = zip(*(\n",
    "    spearmanr(*_, alternative='greater')\n",
    "    for _ in zip(tqdm(gene_scores.values), adata_rna[:, df_genes.index].copy().X.T)\n",
    "))\n",
    "corr = np.nan_to_num(corr, 0)\n",
    "pval = np.nan_to_num(pval, 1)\n",
    "reject, pval_adj = multipletests(pval, .01, method='fdr_bh')[:2]\n",
    "df_genes['corr_ab_expr'] = corr\n",
    "df_genes['reject_ab_expr'] = reject\n",
    "\n",
    "corr, pval = zip(*(\n",
    "    spearmanr(*_, alternative='greater')\n",
    "    for _ in zip(tqdm(feat_atac_lowres[df_genes['pos_whole']].values.T), adata_rna[mask_gage, df_genes.index].copy().X.T)\n",
    "))\n",
    "reject, pval_adj = multipletests(pval, .01, method='fdr_bh')[:2]\n",
    "df_genes['corr_atac_expr'] = corr\n",
    "df_genes['reject_atac_expr'] = reject"
   ]
  },
  {
   "cell_type": "code",
   "execution_count": 15,
   "id": "31fba940",
   "metadata": {},
   "outputs": [
    {
     "data": {
      "text/html": [
       "<div>\n",
       "<style scoped>\n",
       "    .dataframe tbody tr th:only-of-type {\n",
       "        vertical-align: middle;\n",
       "    }\n",
       "\n",
       "    .dataframe tbody tr th {\n",
       "        vertical-align: top;\n",
       "    }\n",
       "\n",
       "    .dataframe thead tr th {\n",
       "        text-align: left;\n",
       "    }\n",
       "\n",
       "    .dataframe thead tr:last-of-type th {\n",
       "        text-align: right;\n",
       "    }\n",
       "</style>\n",
       "<table border=\"1\" class=\"dataframe\">\n",
       "  <thead>\n",
       "    <tr>\n",
       "      <th></th>\n",
       "      <th colspan=\"8\" halign=\"left\">corr_atac_expr</th>\n",
       "      <th colspan=\"8\" halign=\"left\">corr_ab_expr</th>\n",
       "    </tr>\n",
       "    <tr>\n",
       "      <th></th>\n",
       "      <th>count</th>\n",
       "      <th>mean</th>\n",
       "      <th>std</th>\n",
       "      <th>min</th>\n",
       "      <th>25%</th>\n",
       "      <th>50%</th>\n",
       "      <th>75%</th>\n",
       "      <th>max</th>\n",
       "      <th>count</th>\n",
       "      <th>mean</th>\n",
       "      <th>std</th>\n",
       "      <th>min</th>\n",
       "      <th>25%</th>\n",
       "      <th>50%</th>\n",
       "      <th>75%</th>\n",
       "      <th>max</th>\n",
       "    </tr>\n",
       "    <tr>\n",
       "      <th>reject_deg</th>\n",
       "      <th></th>\n",
       "      <th></th>\n",
       "      <th></th>\n",
       "      <th></th>\n",
       "      <th></th>\n",
       "      <th></th>\n",
       "      <th></th>\n",
       "      <th></th>\n",
       "      <th></th>\n",
       "      <th></th>\n",
       "      <th></th>\n",
       "      <th></th>\n",
       "      <th></th>\n",
       "      <th></th>\n",
       "      <th></th>\n",
       "      <th></th>\n",
       "    </tr>\n",
       "  </thead>\n",
       "  <tbody>\n",
       "    <tr>\n",
       "      <th>False</th>\n",
       "      <td>5406.0</td>\n",
       "      <td>0.030014</td>\n",
       "      <td>0.043891</td>\n",
       "      <td>-0.157211</td>\n",
       "      <td>0.002945</td>\n",
       "      <td>0.024064</td>\n",
       "      <td>0.048310</td>\n",
       "      <td>0.327856</td>\n",
       "      <td>5406.0</td>\n",
       "      <td>0.011128</td>\n",
       "      <td>0.025052</td>\n",
       "      <td>-0.110780</td>\n",
       "      <td>-0.004911</td>\n",
       "      <td>0.009623</td>\n",
       "      <td>0.024435</td>\n",
       "      <td>0.227785</td>\n",
       "    </tr>\n",
       "    <tr>\n",
       "      <th>True</th>\n",
       "      <td>1066.0</td>\n",
       "      <td>0.083544</td>\n",
       "      <td>0.084816</td>\n",
       "      <td>-0.089956</td>\n",
       "      <td>0.026185</td>\n",
       "      <td>0.066793</td>\n",
       "      <td>0.123922</td>\n",
       "      <td>0.479699</td>\n",
       "      <td>1066.0</td>\n",
       "      <td>0.043746</td>\n",
       "      <td>0.058199</td>\n",
       "      <td>-0.074337</td>\n",
       "      <td>0.006595</td>\n",
       "      <td>0.030554</td>\n",
       "      <td>0.064658</td>\n",
       "      <td>0.407491</td>\n",
       "    </tr>\n",
       "  </tbody>\n",
       "</table>\n",
       "</div>"
      ],
      "text/plain": [
       "           corr_atac_expr                                                     \n",
       "                    count      mean       std       min       25%       50%   \n",
       "reject_deg                                                                    \n",
       "False              5406.0  0.030014  0.043891 -0.157211  0.002945  0.024064  \\\n",
       "True               1066.0  0.083544  0.084816 -0.089956  0.026185  0.066793   \n",
       "\n",
       "                               corr_ab_expr                                 \n",
       "                 75%       max        count      mean       std       min   \n",
       "reject_deg                                                                  \n",
       "False       0.048310  0.327856       5406.0  0.011128  0.025052 -0.110780  \\\n",
       "True        0.123922  0.479699       1066.0  0.043746  0.058199 -0.074337   \n",
       "\n",
       "                                                    \n",
       "                 25%       50%       75%       max  \n",
       "reject_deg                                          \n",
       "False      -0.004911  0.009623  0.024435  0.227785  \n",
       "True        0.006595  0.030554  0.064658  0.407491  "
      ]
     },
     "execution_count": 15,
     "metadata": {},
     "output_type": "execute_result"
    }
   ],
   "source": [
    "df_genes.groupby('reject_deg')[['corr_atac_expr', 'corr_ab_expr']].describe()"
   ]
  },
  {
   "cell_type": "code",
   "execution_count": 16,
   "id": "b6e03f4c",
   "metadata": {},
   "outputs": [
    {
     "data": {
      "image/png": "[encoded data removed]",
      "text/plain": [
       "<Figure size 1200x400 with 3 Axes>"
      ]
     },
     "metadata": {},
     "output_type": "display_data"
    }
   ],
   "source": [
    "def plot_corr_hit(df, ax=None):\n",
    "\tif ax is None:\n",
    "\t\tfig, ax = plt.subplots(figsize=(6, 6))\n",
    "\tsns.kdeplot(\n",
    "\t\tax=ax, data=df, x='corr', hue='hit', common_norm=False, fill=True,\n",
    "\t\thue_order=[False, True])\n",
    "\tmean_false, mean_true = df.groupby('hit')['corr'].mean().values\n",
    "\tstat, pval = mannwhitneyu(df.loc[df['hit'].eq(True), 'corr'], df.loc[df['hit'].eq(False), 'corr'])\n",
    "\tax.axvline(mean_false, c='C0', linestyle='--')\n",
    "\tax.axvline(mean_true, c='C1', linestyle='--')\n",
    "\tax.text(mean_false, ax.get_ylim()[1], f'Avg. = {mean_false:.2f}', horizontalalignment='right')\n",
    "\tax.text(mean_true, ax.get_ylim()[1], f'Avg. = {mean_true:.2f}')\n",
    "\tax.set(\n",
    "\t\ttitle=f'P={pval:.0e}',\n",
    "\t\txlabel='Interaction-expression correlation',\n",
    "\t)\n",
    "\tax.spines[['right', 'top']].set_visible(False)\n",
    "\n",
    "fig, axes = plt.subplots(1, 3, figsize=(12, 4))\n",
    "ax = axes[0]\n",
    "plot_corr_hit(df_genes.rename(columns={'corr_atac_expr': 'corr', 'reject_deg': 'hit'}), ax=ax)\n",
    "ax.set(xlabel='Correlation between accessibility and expression')\n",
    "ax = axes[1]\n",
    "plot_corr_hit(df_genes.rename(columns={'corr_ab_expr': 'corr', 'reject_deg': 'hit'}), ax=ax)\n",
    "ax.set(xlabel='Correlation between scA/B value and expression')\n",
    "ax = axes[2]\n",
    "sns.scatterplot(\n",
    "    ax=ax, data=df_genes[df_genes['reject_deg']], x='corr_atac_expr', y='corr_ab_expr',\n",
    "    s=2, hue='reject_deg', edgecolor='none')\n",
    "ax.spines[['right', 'top']].set_visible(False)\n",
    "ax.axvline(.1, linestyle='--', color='grey')\n",
    "ax.axhline(.05, linestyle='--', color='grey')\n",
    "\n",
    "fig.tight_layout()\n",
    "plt.show()\n",
    "plt.close('all')"
   ]
  },
  {
   "cell_type": "code",
   "execution_count": 17,
   "id": "4d0aebb9",
   "metadata": {},
   "outputs": [
    {
     "data": {
      "text/html": [
       "<div>\n",
       "<style scoped>\n",
       "    .dataframe tbody tr th:only-of-type {\n",
       "        vertical-align: middle;\n",
       "    }\n",
       "\n",
       "    .dataframe tbody tr th {\n",
       "        vertical-align: top;\n",
       "    }\n",
       "\n",
       "    .dataframe thead th {\n",
       "        text-align: right;\n",
       "    }\n",
       "</style>\n",
       "<table border=\"1\" class=\"dataframe\">\n",
       "  <thead>\n",
       "    <tr style=\"text-align: right;\">\n",
       "      <th>corr_atac_expr</th>\n",
       "      <th>False</th>\n",
       "      <th>True</th>\n",
       "    </tr>\n",
       "    <tr>\n",
       "      <th>corr_ab_expr</th>\n",
       "      <th></th>\n",
       "      <th></th>\n",
       "    </tr>\n",
       "  </thead>\n",
       "  <tbody>\n",
       "    <tr>\n",
       "      <th>False</th>\n",
       "      <td>564</td>\n",
       "      <td>142</td>\n",
       "    </tr>\n",
       "    <tr>\n",
       "      <th>True</th>\n",
       "      <td>142</td>\n",
       "      <td>218</td>\n",
       "    </tr>\n",
       "  </tbody>\n",
       "</table>\n",
       "</div>"
      ],
      "text/plain": [
       "corr_atac_expr  False  True \n",
       "corr_ab_expr                \n",
       "False             564    142\n",
       "True              142    218"
      ]
     },
     "execution_count": 17,
     "metadata": {},
     "output_type": "execute_result"
    }
   ],
   "source": [
    "mask_ab = df_genes['corr_ab_expr'] > .05\n",
    "mask_atac = df_genes['corr_atac_expr'] > .1\n",
    "df = pd.DataFrame([mask_ab, mask_atac]).T[df_genes['reject_deg']]\n",
    "df.groupby(list(df.columns)).size().unstack()"
   ]
  },
  {
   "cell_type": "markdown",
   "id": "5cf4c46a",
   "metadata": {},
   "source": [
    "# 6. Representative loci"
   ]
  },
  {
   "cell_type": "code",
   "execution_count": 18,
   "id": "9f235046",
   "metadata": {},
   "outputs": [
    {
     "data": {
      "text/plain": [
       "chrom                                                      chr1\n",
       "type                                                       gene\n",
       "start                                                  68032186\n",
       "end                                                    69108059\n",
       "strand                                                        -\n",
       "annotation    gene_id \"ENSMUSG00000062209.15\"; gene_type \"pr...\n",
       "gene_type                                        protein_coding\n",
       "ID                                           ENSMUSG00000062209\n",
       "gene_id                                      ENSMUSG00000062209\n",
       "Name: Erbb4, dtype: object"
      ]
     },
     "metadata": {},
     "output_type": "display_data"
    }
   ],
   "source": [
    "def subset_atac_features(adata_atac, chrom, start, end, res, smooth_weight):\n",
    "\tstart, end = int(np.floor(start / res)), int(np.ceil(end / res))\n",
    "\tfeat_name = np.array([f'{chrom}:{p}-{p+res}' for p in np.arange(start, end) * res])\n",
    "\tmask = np.isin(feat_name, adata_atac.var.index)\n",
    "\tfeat_atac_local = np.zeros([len(smooth_weight), len(feat_name)])\n",
    "\tfeat_atac_local[:, mask] = np.asarray(smooth_weight @ adata_atac[:, feat_name[mask]].copy().X)\n",
    "\treturn start, end, feat_atac_local\n",
    "\n",
    "gene = 'Erbb4'\n",
    "display(df_gene_anno.loc[gene])\n",
    "res = int(1e3)\n",
    "chrom, start, end = df_gene_anno.loc[gene, ['chrom', 'start', 'end']]\n",
    "start, end = 66_894_000, 66_901_000\n",
    "start, end, feat_atac_local = subset_atac_features(adata_pairedseq[idx_pairedseq], chrom, start, end, res, smooth_weight)"
   ]
  },
  {
   "cell_type": "code",
   "execution_count": 19,
   "id": "9ab2f501",
   "metadata": {},
   "outputs": [
    {
     "data": {
      "image/png": "[encoded data removed]",
      "text/plain": [
       "<Figure size 1200x200 with 4 Axes>"
      ]
     },
     "metadata": {},
     "output_type": "display_data"
    }
   ],
   "source": [
    "def plot_atac_pseudobulk(start, end, res, setting_list, feat_atac_local, label, pos=None):\n",
    "\tnrow, ncol = len(setting_list), 2\n",
    "\tfig, axes = plt.subplots(nrow, ncol, figsize=(ncol * 6, nrow * 1), sharex=True, sharey='col')\n",
    "\tfor (ax1, ax2), (title, cell_types) in zip(axes, setting_list.items()):\n",
    "\t\tx = feat_atac_local[np.isin(label, cell_types)]\n",
    "\t\ty = feat_atac_local[~np.isin(label, cell_types) & np.isin(label, sum(setting_list.values(), []))]\n",
    "\t\tp = mannwhitneyu(x, y, alternative='greater', axis=0)[1]\n",
    "\t\tax = ax1\n",
    "\t\tax.bar(np.arange(start, end) * res, x.mean(0), width=res, align='edge', color='lightblue')\n",
    "\t\tax.bar_label(ax.containers[-1], labels=[f'P={_:.0e}' if _ < 1e-2 else '' for _ in p])\n",
    "\t\tax.spines[['right', 'top']].set_visible(False)\n",
    "\t\tax.set(title=title)\n",
    "\t\tif pos is not None:\n",
    "\t\t\tax.axvline(pos, linestyle='--', color='grey')\n",
    "\t\tax = ax2\n",
    "\t\tax.bar(\n",
    "\t\t\tnp.arange(start, end) * res, -np.log10(p),\n",
    "\t\t\tcolor=np.where(p < 1e-2, 'C1', 'C0'), width=res, align='edge')\n",
    "\tfig.tight_layout()\n",
    "\tplt.show()\n",
    "\tplt.close('all')\n",
    "\n",
    "setting_list = {\n",
    "    'Pvalb': ['Pvalb a', 'Pvalb b'],\n",
    "    'Sst & Meis2': ['Sst a', 'Sst b', 'Meis2'],\n",
    "}\n",
    "label = adata_rna.obs.loc[idx_gage, 'cell type'].values\n",
    "plot_atac_pseudobulk(start, end, res, setting_list, feat_atac_local, label)"
   ]
  },
  {
   "cell_type": "code",
   "execution_count": null,
   "id": "1d212126",
   "metadata": {},
   "outputs": [],
   "source": []
  }
 ],
 "metadata": {
  "kernelspec": {
   "display_name": "Python 3 (ipykernel)",
   "language": "python",
   "name": "python3"
  },
  "language_info": {
   "codemirror_mode": {
    "name": "ipython",
    "version": 3
   },
   "file_extension": ".py",
   "mimetype": "text/x-python",
   "name": "python",
   "nbconvert_exporter": "python",
   "pygments_lexer": "ipython3",
   "version": "3.8.8"
  }
 },
 "nbformat": 4,
 "nbformat_minor": 5
}
